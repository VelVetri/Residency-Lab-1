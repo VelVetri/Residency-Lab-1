{
 "cells": [
  {
   "cell_type": "markdown",
   "metadata": {},
   "source": [
    "## Lab Brief - Statistical Learning with Python"
   ]
  },
  {
   "cell_type": "markdown",
   "metadata": {},
   "source": [
    "### Part-1"
   ]
  },
  {
   "cell_type": "markdown",
   "metadata": {},
   "source": [
    "## Measures of Data"
   ]
  },
  {
   "cell_type": "markdown",
   "metadata": {},
   "source": [
    "Descriptive Statistcs are measures that summarize important features of data. Producing these descriptive statistics is a common first step to take after cleaning and preparing a dataset for further analysis. Examples are like calculating Mean or Median. In this lab, we will be looking into some of these functions and explore several new ones."
   ]
  },
  {
   "cell_type": "markdown",
   "metadata": {},
   "source": [
    "#### Measures of Central Tendency"
   ]
  },
  {
   "cell_type": "markdown",
   "metadata": {},
   "source": [
    "Whenever you measure things of the same kind, a fairly large number of such measurements will tend to cluster around the middle value. Such a value is called a measure of \"Central Tendency\". The other terms that are used synonymously are \"Measures of Location\", or \"Statistical Averages\". "
   ]
  },
  {
   "cell_type": "code",
   "execution_count": 5,
   "metadata": {},
   "outputs": [
    {
     "name": "stderr",
     "output_type": "stream",
     "text": [
      "/Users/yuv4r4j/anaconda3/lib/python3.6/importlib/_bootstrap.py:219: RuntimeWarning: numpy.dtype size changed, may indicate binary incompatibility. Expected 96, got 88\n",
      "  return f(*args, **kwds)\n",
      "/Users/yuv4r4j/anaconda3/lib/python3.6/importlib/_bootstrap.py:219: RuntimeWarning: numpy.dtype size changed, may indicate binary incompatibility. Expected 96, got 88\n",
      "  return f(*args, **kwds)\n"
     ]
    }
   ],
   "source": [
    "import numpy as np\n",
    "import pandas as pd\n",
    "import matplotlib.pyplot as plt\n",
    "\n",
    "mtcars = pd.read_csv('mtcars.csv')"
   ]
  },
  {
   "cell_type": "markdown",
   "metadata": {},
   "source": [
    "##### Using the mtcars dataset.\n",
    "\n",
    "For the below set of questions, we will be using the cars data from [Motor Trend Car Road Tests](http://stat.ethz.ch/R-manual/R-devel/library/datasets/html/mtcars.html)\n",
    "\n",
    "The data was extracted from the 1974 Motor Trend US magazine, and comprises fuel consumption and 10 aspects of automobile design and performance for 32 automobiles (1973–74 models). \n",
    "\n",
    "\n",
    "Details :\n",
    "    \n",
    "A data frame with 32 observations on 11 (numeric) variables.\n",
    "\n",
    "[, 1] \tmpg \tMiles/(US) gallon\n",
    "\n",
    "[, 2] \tcyl \tNumber of cylinders\n",
    "\n",
    "[, 3] \tdisp \tDisplacement (cu.in.)\n",
    "\n",
    "[, 4] \thp \tGross horsepower\n",
    "\n",
    "[, 5] \tdrat \tRear axle ratio\n",
    "\n",
    "[, 6] \twt \tWeight (1000 lbs)\n",
    "\n",
    "[, 7] \tqsec \t1/4 mile time\n",
    "\n",
    "[, 8] \tvs \tEngine (0 = V-shaped, 1 = straight)\n",
    "\n",
    "[, 9] \tam \tTransmission (0 = automatic, 1 = manual)\n",
    "\n",
    "[,10] \tgear \tNumber of forward gears\n",
    "\n",
    "[,11] \tcarb \tNumber of carburetors "
   ]
  },
  {
   "cell_type": "markdown",
   "metadata": {},
   "source": [
    "#### Explore the data - Setting the index"
   ]
  },
  {
   "cell_type": "code",
   "execution_count": 6,
   "metadata": {},
   "outputs": [
    {
     "data": {
      "text/html": [
       "<div>\n",
       "<style scoped>\n",
       "    .dataframe tbody tr th:only-of-type {\n",
       "        vertical-align: middle;\n",
       "    }\n",
       "\n",
       "    .dataframe tbody tr th {\n",
       "        vertical-align: top;\n",
       "    }\n",
       "\n",
       "    .dataframe thead th {\n",
       "        text-align: right;\n",
       "    }\n",
       "</style>\n",
       "<table border=\"1\" class=\"dataframe\">\n",
       "  <thead>\n",
       "    <tr style=\"text-align: right;\">\n",
       "      <th></th>\n",
       "      <th>name</th>\n",
       "      <th>mpg</th>\n",
       "      <th>cyl</th>\n",
       "      <th>disp</th>\n",
       "      <th>hp</th>\n",
       "      <th>drat</th>\n",
       "      <th>wt</th>\n",
       "      <th>qsec</th>\n",
       "      <th>vs</th>\n",
       "      <th>am</th>\n",
       "      <th>gear</th>\n",
       "      <th>carb</th>\n",
       "    </tr>\n",
       "    <tr>\n",
       "      <th>name</th>\n",
       "      <th></th>\n",
       "      <th></th>\n",
       "      <th></th>\n",
       "      <th></th>\n",
       "      <th></th>\n",
       "      <th></th>\n",
       "      <th></th>\n",
       "      <th></th>\n",
       "      <th></th>\n",
       "      <th></th>\n",
       "      <th></th>\n",
       "      <th></th>\n",
       "    </tr>\n",
       "  </thead>\n",
       "  <tbody>\n",
       "    <tr>\n",
       "      <th>Mazda RX4</th>\n",
       "      <td>Mazda RX4</td>\n",
       "      <td>21.0</td>\n",
       "      <td>6</td>\n",
       "      <td>160.0</td>\n",
       "      <td>110</td>\n",
       "      <td>3.90</td>\n",
       "      <td>2.620</td>\n",
       "      <td>16.46</td>\n",
       "      <td>0</td>\n",
       "      <td>1</td>\n",
       "      <td>4</td>\n",
       "      <td>4</td>\n",
       "    </tr>\n",
       "    <tr>\n",
       "      <th>Mazda RX4 Wag</th>\n",
       "      <td>Mazda RX4 Wag</td>\n",
       "      <td>21.0</td>\n",
       "      <td>6</td>\n",
       "      <td>160.0</td>\n",
       "      <td>110</td>\n",
       "      <td>3.90</td>\n",
       "      <td>2.875</td>\n",
       "      <td>17.02</td>\n",
       "      <td>0</td>\n",
       "      <td>1</td>\n",
       "      <td>4</td>\n",
       "      <td>4</td>\n",
       "    </tr>\n",
       "    <tr>\n",
       "      <th>Datsun 710</th>\n",
       "      <td>Datsun 710</td>\n",
       "      <td>22.8</td>\n",
       "      <td>4</td>\n",
       "      <td>108.0</td>\n",
       "      <td>93</td>\n",
       "      <td>3.85</td>\n",
       "      <td>2.320</td>\n",
       "      <td>18.61</td>\n",
       "      <td>1</td>\n",
       "      <td>1</td>\n",
       "      <td>4</td>\n",
       "      <td>1</td>\n",
       "    </tr>\n",
       "    <tr>\n",
       "      <th>Hornet 4 Drive</th>\n",
       "      <td>Hornet 4 Drive</td>\n",
       "      <td>21.4</td>\n",
       "      <td>6</td>\n",
       "      <td>258.0</td>\n",
       "      <td>110</td>\n",
       "      <td>3.08</td>\n",
       "      <td>3.215</td>\n",
       "      <td>19.44</td>\n",
       "      <td>1</td>\n",
       "      <td>0</td>\n",
       "      <td>3</td>\n",
       "      <td>1</td>\n",
       "    </tr>\n",
       "    <tr>\n",
       "      <th>Hornet Sportabout</th>\n",
       "      <td>Hornet Sportabout</td>\n",
       "      <td>18.7</td>\n",
       "      <td>8</td>\n",
       "      <td>360.0</td>\n",
       "      <td>175</td>\n",
       "      <td>3.15</td>\n",
       "      <td>3.440</td>\n",
       "      <td>17.02</td>\n",
       "      <td>0</td>\n",
       "      <td>0</td>\n",
       "      <td>3</td>\n",
       "      <td>2</td>\n",
       "    </tr>\n",
       "  </tbody>\n",
       "</table>\n",
       "</div>"
      ],
      "text/plain": [
       "                                name   mpg  cyl   disp   hp  drat     wt  \\\n",
       "name                                                                       \n",
       "Mazda RX4                  Mazda RX4  21.0    6  160.0  110  3.90  2.620   \n",
       "Mazda RX4 Wag          Mazda RX4 Wag  21.0    6  160.0  110  3.90  2.875   \n",
       "Datsun 710                Datsun 710  22.8    4  108.0   93  3.85  2.320   \n",
       "Hornet 4 Drive        Hornet 4 Drive  21.4    6  258.0  110  3.08  3.215   \n",
       "Hornet Sportabout  Hornet Sportabout  18.7    8  360.0  175  3.15  3.440   \n",
       "\n",
       "                    qsec  vs  am  gear  carb  \n",
       "name                                          \n",
       "Mazda RX4          16.46   0   1     4     4  \n",
       "Mazda RX4 Wag      17.02   0   1     4     4  \n",
       "Datsun 710         18.61   1   1     4     1  \n",
       "Hornet 4 Drive     19.44   1   0     3     1  \n",
       "Hornet Sportabout  17.02   0   0     3     2  "
      ]
     },
     "execution_count": 6,
     "metadata": {},
     "output_type": "execute_result"
    }
   ],
   "source": [
    "mtcars.index = mtcars[\"name\"]\n",
    "mtcars.head()\n",
    "# mtcars.mean() #By default this will give the mean of each column"
   ]
  },
  {
   "cell_type": "markdown",
   "metadata": {},
   "source": [
    "### Question 1\n",
    "\n",
    "What is the first car name given in mtcars?\n",
    "\n",
    "** Make use of index which has been set previously **\n",
    "\n",
    "**Hint**: Use .loc function\n"
   ]
  },
  {
   "cell_type": "code",
   "execution_count": 10,
   "metadata": {
    "scrolled": true
   },
   "outputs": [
    {
     "data": {
      "text/plain": [
       "'Mazda RX4'"
      ]
     },
     "execution_count": 10,
     "metadata": {},
     "output_type": "execute_result"
    }
   ],
   "source": [
    "mtcars.loc[\"Mazda RX4\", \"name\"]\n"
   ]
  },
  {
   "cell_type": "markdown",
   "metadata": {},
   "source": [
    "### Question 2\n",
    "What is the highest difference between the hp and cyl?\n",
    "\n",
    "**Hint:** You can use **max()** function to find the difference"
   ]
  },
  {
   "cell_type": "code",
   "execution_count": 14,
   "metadata": {},
   "outputs": [
    {
     "data": {
      "text/plain": [
       "331"
      ]
     },
     "execution_count": 14,
     "metadata": {},
     "output_type": "execute_result"
    }
   ],
   "source": [
    "max(mtcars.loc[:, \"hp\"])-min(mtcars.loc[:, \"cyl\"])"
   ]
  },
  {
   "cell_type": "markdown",
   "metadata": {},
   "source": [
    "### Question 3\n",
    "What are the cars having highest weight(wt) and lowest weight(wt)?\n",
    "\n",
    "**Hint:** Use idxmax() and idxmin() to locate the row\n",
    "\n",
    "Use **.iloc** function to print the  row\n",
    "\n",
    "**Note:** Both idxmax and idxmin belong to pandas"
   ]
  },
  {
   "cell_type": "code",
   "execution_count": 20,
   "metadata": {},
   "outputs": [],
   "source": [
    "df =pd.DataFrame(mtcars)\n"
   ]
  },
  {
   "cell_type": "code",
   "execution_count": 24,
   "metadata": {},
   "outputs": [
    {
     "data": {
      "text/plain": [
       "'Lincoln Continental'"
      ]
     },
     "execution_count": 24,
     "metadata": {},
     "output_type": "execute_result"
    }
   ],
   "source": [
    "df['wt'].idxmax()"
   ]
  },
  {
   "cell_type": "code",
   "execution_count": 38,
   "metadata": {},
   "outputs": [
    {
     "data": {
      "text/plain": [
       "15"
      ]
     },
     "execution_count": 38,
     "metadata": {},
     "output_type": "execute_result"
    }
   ],
   "source": [
    "df.index.get_loc(\"Lincoln Continental\")"
   ]
  },
  {
   "cell_type": "code",
   "execution_count": 39,
   "metadata": {},
   "outputs": [
    {
     "data": {
      "text/plain": [
       "name    Lincoln Continental\n",
       "mpg                    10.4\n",
       "cyl                       8\n",
       "disp                    460\n",
       "hp                      215\n",
       "drat                      3\n",
       "wt                    5.424\n",
       "qsec                  17.82\n",
       "vs                        0\n",
       "am                        0\n",
       "gear                      3\n",
       "carb                      4\n",
       "Name: Lincoln Continental, dtype: object"
      ]
     },
     "execution_count": 39,
     "metadata": {},
     "output_type": "execute_result"
    }
   ],
   "source": [
    "df.iloc[15]"
   ]
  },
  {
   "cell_type": "code",
   "execution_count": 32,
   "metadata": {},
   "outputs": [
    {
     "data": {
      "text/plain": [
       "name    Lincoln Continental\n",
       "mpg                    10.4\n",
       "cyl                       8\n",
       "disp                    460\n",
       "hp                      215\n",
       "drat                      3\n",
       "wt                    5.424\n",
       "qsec                  17.82\n",
       "vs                        0\n",
       "am                        0\n",
       "gear                      3\n",
       "carb                      4\n",
       "Name: Lincoln Continental, dtype: object"
      ]
     },
     "execution_count": 32,
     "metadata": {},
     "output_type": "execute_result"
    }
   ],
   "source": [
    "df.loc[\"Lincoln Continental\"]"
   ]
  },
  {
   "cell_type": "code",
   "execution_count": 27,
   "metadata": {},
   "outputs": [
    {
     "data": {
      "text/plain": [
       "name    Lotus Europa\n",
       "mpg             30.4\n",
       "cyl                4\n",
       "disp            95.1\n",
       "hp               113\n",
       "drat            3.77\n",
       "wt             1.513\n",
       "qsec            16.9\n",
       "vs                 1\n",
       "am                 1\n",
       "gear               5\n",
       "carb               2\n",
       "Name: Lotus Europa, dtype: object"
      ]
     },
     "execution_count": 27,
     "metadata": {},
     "output_type": "execute_result"
    }
   ],
   "source": [
    "mtcars.loc[\"Lotus Europa\"]"
   ]
  },
  {
   "cell_type": "code",
   "execution_count": 26,
   "metadata": {},
   "outputs": [
    {
     "data": {
      "text/plain": [
       "'Lotus Europa'"
      ]
     },
     "execution_count": 26,
     "metadata": {},
     "output_type": "execute_result"
    }
   ],
   "source": [
    "df['wt'].idxmin()"
   ]
  },
  {
   "cell_type": "markdown",
   "metadata": {},
   "source": [
    "### Question 4\n",
    "\n",
    "Find the mean of each row and each column in the given dataset.\n",
    "\n",
    "**Hint:** Use .mean() function. To operate on rows use **axis=0**, on columns use **axis=1**"
   ]
  },
  {
   "cell_type": "code",
   "execution_count": 36,
   "metadata": {},
   "outputs": [
    {
     "data": {
      "text/plain": [
       "mpg      20.090625\n",
       "cyl       6.187500\n",
       "disp    230.721875\n",
       "hp      146.687500\n",
       "drat      3.596563\n",
       "wt        3.217250\n",
       "qsec     17.848750\n",
       "vs        0.437500\n",
       "am        0.406250\n",
       "gear      3.687500\n",
       "carb      2.812500\n",
       "dtype: float64"
      ]
     },
     "execution_count": 36,
     "metadata": {},
     "output_type": "execute_result"
    }
   ],
   "source": [
    "df.mean(axis=0)"
   ]
  },
  {
   "cell_type": "code",
   "execution_count": 37,
   "metadata": {},
   "outputs": [
    {
     "data": {
      "text/plain": [
       "name\n",
       "Mazda RX4              29.907273\n",
       "Mazda RX4 Wag          29.981364\n",
       "Datsun 710             23.598182\n",
       "Hornet 4 Drive         38.739545\n",
       "Hornet Sportabout      53.664545\n",
       "Valiant                35.049091\n",
       "Duster 360             59.720000\n",
       "Merc 240D              24.634545\n",
       "Merc 230               27.233636\n",
       "Merc 280               31.860000\n",
       "Merc 280C              31.787273\n",
       "Merc 450SE             46.430909\n",
       "Merc 450SL             46.500000\n",
       "Merc 450SLC            46.350000\n",
       "Cadillac Fleetwood     66.232727\n",
       "Lincoln Continental    66.058545\n",
       "Chrysler Imperial      65.972273\n",
       "Fiat 128               19.440909\n",
       "Honda Civic            17.742273\n",
       "Toyota Corolla         18.814091\n",
       "Toyota Corona          24.888636\n",
       "Dodge Challenger       47.240909\n",
       "AMC Javelin            46.007727\n",
       "Camaro Z28             58.752727\n",
       "Pontiac Firebird       57.379545\n",
       "Fiat X1-9              18.928636\n",
       "Porsche 914-2          24.779091\n",
       "Lotus Europa           24.880273\n",
       "Ford Pantera L         60.971818\n",
       "Ferrari Dino           34.508182\n",
       "Maserati Bora          63.155455\n",
       "Volvo 142E             26.262727\n",
       "dtype: float64"
      ]
     },
     "execution_count": 37,
     "metadata": {},
     "output_type": "execute_result"
    }
   ],
   "source": [
    "df.mean(axis=1)"
   ]
  },
  {
   "cell_type": "markdown",
   "metadata": {},
   "source": [
    "### Question 5\n",
    "\n",
    "Plot mpg values of mtcards dataframe using matplotlib.\n",
    "\n",
    "**Hint: Use plt.plot function**"
   ]
  },
  {
   "cell_type": "code",
   "execution_count": 51,
   "metadata": {},
   "outputs": [
    {
     "data": {
      "text/plain": [
       "name\n",
       "Mazda RX4              21.0\n",
       "Mazda RX4 Wag          21.0\n",
       "Datsun 710             22.8\n",
       "Hornet 4 Drive         21.4\n",
       "Hornet Sportabout      18.7\n",
       "Valiant                18.1\n",
       "Duster 360             14.3\n",
       "Merc 240D              24.4\n",
       "Merc 230               22.8\n",
       "Merc 280               19.2\n",
       "Merc 280C              17.8\n",
       "Merc 450SE             16.4\n",
       "Merc 450SL             17.3\n",
       "Merc 450SLC            15.2\n",
       "Cadillac Fleetwood     10.4\n",
       "Lincoln Continental    10.4\n",
       "Chrysler Imperial      14.7\n",
       "Fiat 128               32.4\n",
       "Honda Civic            30.4\n",
       "Toyota Corolla         33.9\n",
       "Toyota Corona          21.5\n",
       "Dodge Challenger       15.5\n",
       "AMC Javelin            15.2\n",
       "Camaro Z28             13.3\n",
       "Pontiac Firebird       19.2\n",
       "Fiat X1-9              27.3\n",
       "Porsche 914-2          26.0\n",
       "Lotus Europa           30.4\n",
       "Ford Pantera L         15.8\n",
       "Ferrari Dino           19.7\n",
       "Maserati Bora          15.0\n",
       "Volvo 142E             21.4\n",
       "Name: mpg, dtype: float64"
      ]
     },
     "execution_count": 51,
     "metadata": {},
     "output_type": "execute_result"
    },
    {
     "data": {
      "image/png": "[encoded data removed]",
      "text/plain": [
       "<Figure size 432x288 with 1 Axes>"
      ]
     },
     "metadata": {},
     "output_type": "display_data"
    }
   ],
   "source": [
    "plt.plot(df[\"mpg\"])\n",
    "df[\"mpg\"]"
   ]
  },
  {
   "cell_type": "markdown",
   "metadata": {},
   "source": [
    "## Part 2"
   ]
  },
  {
   "cell_type": "markdown",
   "metadata": {},
   "source": [
    "## Measures of Dispersion"
   ]
  },
  {
   "cell_type": "markdown",
   "metadata": {},
   "source": [
    "Measures of Dispersion (Spread) are statistics that describe how data varies. Measure of dispersion gives us the sense of how much the data tends to diverge from the central tendency."
   ]
  },
  {
   "cell_type": "markdown",
   "metadata": {},
   "source": [
    "### Question 6\n",
    "\n",
    "What the range of `mpg` in the given dataset?\n",
    "\n",
    "**Hint:** Range = max-min"
   ]
  },
  {
   "cell_type": "code",
   "execution_count": 54,
   "metadata": {},
   "outputs": [
    {
     "data": {
      "text/plain": [
       "23.5"
      ]
     },
     "execution_count": 54,
     "metadata": {},
     "output_type": "execute_result"
    }
   ],
   "source": [
    "max(df['mpg'])-min(df['mpg'])"
   ]
  },
  {
   "cell_type": "markdown",
   "metadata": {},
   "source": [
    "### Question 7\n",
    "\n",
    "Calculate the 25th quantile (lower quantile)for `mpg` in the given dataset.\n",
    "\n",
    "**Hint:** Use **.quantile()**"
   ]
  },
  {
   "cell_type": "code",
   "execution_count": 62,
   "metadata": {},
   "outputs": [
    {
     "data": {
      "text/plain": [
       "15.425"
      ]
     },
     "execution_count": 62,
     "metadata": {},
     "output_type": "execute_result"
    }
   ],
   "source": [
    "df['mpg'].quantile(q=0.25)"
   ]
  },
  {
   "cell_type": "markdown",
   "metadata": {},
   "source": [
    "### Question 8\n",
    "\n",
    "Calculate the Inter-Quartile Range(IQR) for `mpg` in the given dataset."
   ]
  },
  {
   "cell_type": "markdown",
   "metadata": {},
   "source": [
    "Interquartile range (IQR) is another common measure of spread. IQR is the distance between the 3rd quartile and the 1st quartile.\n",
    "\n",
    "**Hint:** IQR = Q3 - Q1"
   ]
  },
  {
   "cell_type": "code",
   "execution_count": 63,
   "metadata": {},
   "outputs": [
    {
     "data": {
      "text/plain": [
       "7.375"
      ]
     },
     "execution_count": 63,
     "metadata": {},
     "output_type": "execute_result"
    }
   ],
   "source": [
    "df['mpg'].quantile(q=0.75) - df['mpg'].quantile(q=0.25)"
   ]
  },
  {
   "cell_type": "markdown",
   "metadata": {},
   "source": [
    "### Question 9\n",
    "\n",
    "Calculate the Variance, Standard Deviation and Median Absolute Deviation for `mpg`."
   ]
  },
  {
   "cell_type": "markdown",
   "metadata": {},
   "source": [
    "Variance and Standard Deviation are two other common measure of dispersion.\n",
    "\n",
    "**Hint:** Use .var() and .std()"
   ]
  },
  {
   "cell_type": "markdown",
   "metadata": {},
   "source": [
    "**Hint:** Median Absolute Deviation - alternative measure of spread based on the median. It is the median of the absolute value of the deviations from the median. "
   ]
  },
  {
   "cell_type": "code",
   "execution_count": 64,
   "metadata": {},
   "outputs": [
    {
     "data": {
      "text/plain": [
       "36.32410282258065"
      ]
     },
     "execution_count": 64,
     "metadata": {},
     "output_type": "execute_result"
    }
   ],
   "source": [
    "df['mpg'].var()"
   ]
  },
  {
   "cell_type": "code",
   "execution_count": 65,
   "metadata": {},
   "outputs": [
    {
     "data": {
      "text/plain": [
       "6.026948052089105"
      ]
     },
     "execution_count": 65,
     "metadata": {},
     "output_type": "execute_result"
    }
   ],
   "source": [
    "df['mpg'].std()"
   ]
  },
  {
   "cell_type": "code",
   "execution_count": 66,
   "metadata": {},
   "outputs": [
    {
     "data": {
      "text/plain": [
       "4.714453125"
      ]
     },
     "execution_count": 66,
     "metadata": {},
     "output_type": "execute_result"
    }
   ],
   "source": [
    "df['mpg'].mad()"
   ]
  },
  {
   "cell_type": "markdown",
   "metadata": {},
   "source": [
    "## Part 3"
   ]
  },
  {
   "cell_type": "markdown",
   "metadata": {},
   "source": [
    "## Probability Distributions"
   ]
  },
  {
   "cell_type": "markdown",
   "metadata": {},
   "source": [
    "The probability distribution describes how a random variable is distributed. It tells us which values a variable is most likely to take on and which values are less likely to take on. "
   ]
  },
  {
   "cell_type": "markdown",
   "metadata": {},
   "source": [
    "Each value in the given range is equally likely to occur. "
   ]
  },
  {
   "cell_type": "code",
   "execution_count": 29,
   "metadata": {},
   "outputs": [],
   "source": [
    "import scipy.stats as stats # Many functions for probability distributions in python are in scipy.stats"
   ]
  },
  {
   "cell_type": "markdown",
   "metadata": {},
   "source": [
    "### Question 10\n",
    "\n",
    "Generate 1000 datapoints with standard normal distribution with mean 0 and standard deviation 1. "
   ]
  },
  {
   "cell_type": "markdown",
   "metadata": {},
   "source": [
    "#### Normal Distribution"
   ]
  },
  {
   "cell_type": "markdown",
   "metadata": {},
   "source": [
    "The normal or Gaussian Distribution is a continuos probability distribution given by a symmetric bell shaped curve. It is defined its center(mean) and spread(std)."
   ]
  },
  {
   "cell_type": "markdown",
   "metadata": {},
   "source": [
    "The bulk of the observations generated from a normal distribution lie near the mean which lies at the center. About 68% of the data lies within 1 std, 95% lies within 2 stds and 99.7% lies within 3 stds.\n",
    "\n",
    "**Hint:** You can use **np.random.normal()** function to generate normal distribution"
   ]
  },
  {
   "cell_type": "code",
   "execution_count": 68,
   "metadata": {},
   "outputs": [
    {
     "data": {
      "text/plain": [
       "array([-0.12758789,  0.48024097,  0.74999452, -0.15049928, -0.76906164,\n",
       "       -1.19930463, -0.53004499,  0.69771701, -0.23182663,  1.73071434,\n",
       "       -1.19296511, -0.63346258,  0.24445707,  0.17530117, -0.70094019,\n",
       "        1.68177583, -0.99831571, -1.41898347,  0.08396771, -1.09880166,\n",
       "        0.20889853, -0.14021057,  2.82292082,  1.38352792, -0.92787495,\n",
       "        0.7112596 ,  0.11245939, -0.43591797,  0.845259  , -0.92836767,\n",
       "       -0.28325989,  1.31865114, -1.39476002,  0.19569878, -0.31425109,\n",
       "        1.1976025 , -1.32753446, -0.0250603 , -1.0196089 ,  0.47101167,\n",
       "        0.01250921,  0.40574937,  0.30523348,  0.85106616,  1.58790905,\n",
       "       -0.21271724,  0.50568077, -0.37900361, -1.93558324,  0.73453042,\n",
       "       -1.17193061,  0.72894664,  0.64330745, -0.47716746, -0.75439108,\n",
       "       -0.99252196, -1.08509948,  1.32685846, -0.2903584 , -0.1687004 ,\n",
       "       -0.39242701,  0.598737  ,  0.99990897,  0.81497498, -0.2947992 ,\n",
       "        1.56421013, -0.59358093, -0.14641092, -1.07025652,  0.064538  ,\n",
       "       -1.58691446, -0.94192907,  0.26019806,  0.76546297,  0.66461536,\n",
       "        0.64369004,  0.04209472,  0.41867054,  0.45301237,  0.72223716,\n",
       "       -0.79809777, -1.51130085,  1.32772059, -0.12466925, -0.38234325,\n",
       "        0.73090072, -1.82280804,  1.12127618,  1.7747983 ,  0.62557827,\n",
       "       -1.04728483, -0.74388439,  1.74917486, -2.18522036, -0.63621492,\n",
       "        1.03703805,  0.70033336, -0.47667846,  1.45555998,  0.59841288,\n",
       "       -1.56688219, -1.71473319, -1.53317192,  0.83622129,  1.3777307 ,\n",
       "        0.62190102,  0.21594152, -0.95625681,  0.50929061,  0.22266427,\n",
       "        1.11116502, -1.44171828, -2.21941319,  0.68958595,  0.32119765,\n",
       "       -0.99149004,  0.60546524,  0.4124609 , -0.33317235,  0.60017459,\n",
       "       -0.42374918, -1.52990457,  0.09515916, -0.04557811, -0.71206868,\n",
       "       -1.20875479, -0.11842227, -1.65178109, -0.03833052,  0.6820052 ,\n",
       "       -0.79169873, -0.71423271, -1.10029131,  0.43339786, -0.19907703,\n",
       "        1.13111925,  0.29957996,  0.44989324, -1.30400805, -0.45555209,\n",
       "       -0.4607247 , -0.85293338, -1.75114462, -0.38907826,  0.52792051,\n",
       "        1.02253581,  1.34174367,  1.56815176,  0.55294933, -0.26386696,\n",
       "        1.69416601,  0.15719687,  0.29026435, -0.33312255, -1.52342457,\n",
       "       -3.02905737, -0.24364889,  0.68387973,  0.31168607, -0.87135813,\n",
       "        0.66999675, -0.89534949, -0.91976692, -0.08067324,  0.37191783,\n",
       "        0.45535537, -0.75276667, -0.09579313,  1.07661567,  0.50411096,\n",
       "       -0.63901902, -1.33955466, -0.59336073, -0.64460021,  0.25157458,\n",
       "        0.40547786,  0.80280779,  0.82084031,  0.8255734 , -0.79238307,\n",
       "       -1.96639368, -0.80123018, -0.22036383, -1.06356742,  0.40748117,\n",
       "       -1.18215393, -0.4699531 , -0.65425909, -0.22466298, -1.21661247,\n",
       "        0.95382781, -1.50859402, -1.38258633,  0.83694643,  0.90400395,\n",
       "       -0.1912616 ,  0.12385579,  0.52969929,  1.52621143, -0.73848201,\n",
       "        0.0846266 ,  0.4728834 ,  0.00748188,  1.04563064,  0.13993248,\n",
       "        1.54763458, -0.61464983,  0.73801963,  1.24714632,  0.54685225,\n",
       "       -0.59857766, -0.92349111, -0.56561236, -1.00227012, -0.58385947,\n",
       "        0.43350321,  2.31402247,  0.6121869 , -0.54933278,  0.08258694,\n",
       "        1.10602141, -0.44793587, -0.82722888,  0.17184004, -0.6275672 ,\n",
       "        0.39847177, -2.03446802,  0.38018473, -0.67597598, -0.75317589,\n",
       "       -0.28183398,  0.7569802 , -1.74171593,  0.3754592 ,  0.41361593,\n",
       "       -0.19335472,  2.11406559,  0.10572725, -0.38824848,  0.44635651,\n",
       "       -2.0643167 ,  0.02073975,  0.7948043 , -0.24714649,  0.50431497,\n",
       "        0.24530042, -2.58646114, -0.10598247, -1.22162163, -0.14019228,\n",
       "        0.25667809,  0.35014285,  2.39343535, -1.39439811,  1.74722116,\n",
       "        0.42954725, -0.66565349, -0.80891257,  0.03205402, -1.13489418,\n",
       "       -0.02569814,  0.60912422, -1.14066855,  1.73730513, -0.50412131,\n",
       "        0.45397135,  0.08198296, -1.37901662, -0.14345189, -0.2726346 ,\n",
       "        0.22103855, -1.68982443, -1.24704452,  0.53556389,  1.09523822,\n",
       "       -0.11976293, -0.28809142, -0.25316081, -0.78675969, -0.00357926,\n",
       "       -2.52114816, -0.54735921,  0.28157395, -0.36331277,  1.26885223,\n",
       "        0.62750325,  0.04805784,  0.82095117, -0.71371545, -1.01680502,\n",
       "       -2.59466264,  0.10976557, -0.51858564, -2.08771816,  0.68677892,\n",
       "        1.14366131,  0.6306946 , -0.47072902, -0.28055729, -0.48541691,\n",
       "       -0.24539057, -0.03738983, -1.2049823 , -0.50420293,  0.46369639,\n",
       "        1.37593708,  0.40912576, -2.1224848 ,  1.99986374,  1.7579741 ,\n",
       "       -0.1487385 ,  0.84604549,  0.0395717 ,  0.42175193, -0.4282627 ,\n",
       "        0.10073396, -0.45959593, -1.55871722,  0.26418481, -0.48984672,\n",
       "        0.3698526 , -1.10254204, -1.1458801 ,  0.41756428, -0.36333981,\n",
       "       -0.31392789, -0.9807068 , -0.78602965,  0.93342283, -0.02198758,\n",
       "       -0.51694512,  1.21626013,  1.36498625,  0.25679896, -0.30430864,\n",
       "       -0.50408329,  0.35314629, -0.16524977,  0.06090671, -0.85133479,\n",
       "        0.40233242,  0.34918558, -0.20515596, -0.38240477,  0.46186853,\n",
       "        1.19411771, -0.32353862,  0.68112118,  1.39152552,  0.31942628,\n",
       "       -0.46780679,  1.16657024,  0.50513188, -0.42813944, -0.49880624,\n",
       "        0.85331449,  1.60899825, -0.91646345,  0.79645788, -0.76322397,\n",
       "        0.40855927, -0.19076586, -1.07703514, -0.03039519, -1.27263869,\n",
       "        0.02494296,  0.60055946, -0.41140053,  0.03102018,  0.39140881,\n",
       "        1.80663436,  0.51990397,  1.45757302,  0.04548367, -0.74740734,\n",
       "        0.72630777, -1.54426257,  0.5873484 ,  0.37250587,  0.76591078,\n",
       "       -0.79444003, -1.01526343, -1.65496753, -0.408883  ,  0.90261669,\n",
       "       -1.51264965, -0.19513218, -0.23100405,  0.82905057,  0.26329715,\n",
       "       -0.5320112 ,  2.55056968, -0.07673044,  1.26450145,  0.14508645,\n",
       "       -1.3226741 ,  2.17257856, -0.83321163, -0.94606723,  0.72801326,\n",
       "        0.19958418, -0.43378399,  0.7821725 , -0.04726122,  0.36887086,\n",
       "        1.21547998,  0.55263656,  0.08059615,  0.95319261,  0.52967763,\n",
       "       -0.94723695,  1.22803738,  0.74863281, -0.05679849, -0.63328333,\n",
       "        0.37084142, -1.90060138,  0.55843956, -0.16887101, -0.46541958,\n",
       "        1.96059486, -0.67077982, -1.47982484, -0.58956888,  0.55556373,\n",
       "       -0.95233503,  0.98466152,  1.25377163, -0.84554232,  0.00783379,\n",
       "       -0.26691528, -1.00000182,  0.6019865 , -1.27315593,  0.7215185 ,\n",
       "        0.61792757, -0.44499729,  0.0255663 ,  1.10171204, -1.66905312,\n",
       "        1.39201507,  0.56924899, -0.86264947,  0.36816922,  1.59010801,\n",
       "       -1.3534008 ,  0.59337755, -0.38492862,  0.83578138, -0.36384459,\n",
       "       -0.265803  ,  0.48994385,  0.75223433, -0.89124862,  0.82898789,\n",
       "        0.21695534,  1.33165436,  0.83039141,  0.16974747, -1.4216173 ,\n",
       "        1.19174981,  0.36597424, -0.28941628, -1.32992   , -0.71549696,\n",
       "       -0.60564493, -1.24043685, -0.03394953, -1.70835621, -0.77648862,\n",
       "        1.75755795,  0.39234627,  1.00740724,  1.13768098,  0.85985692,\n",
       "        1.26177603,  0.56554702, -0.56892496,  0.57745396,  0.20504289,\n",
       "       -0.92428168,  0.02587955, -0.52588717, -0.42782649,  0.68442834,\n",
       "        0.24449867, -0.54986145,  0.3373042 , -0.96103813, -1.49473551,\n",
       "       -1.01950633, -1.17178254,  0.60113364,  1.06152049, -0.09943727,\n",
       "       -1.13405433,  1.37863296,  0.69790292,  0.3253227 , -1.8734945 ,\n",
       "        2.03731842,  0.73560966, -0.37294578,  1.11960902,  2.06028144,\n",
       "       -0.47603223,  0.61975709, -0.64712087, -0.36035195, -0.18341113,\n",
       "        0.40633162,  1.67103559,  0.19234453,  0.42787337, -0.38233889,\n",
       "       -1.6480646 ,  1.24774576, -0.93373456,  0.0545815 ,  0.89971604,\n",
       "       -0.74178935,  1.81915987,  1.92284499,  0.82000895,  1.01351612,\n",
       "        0.36605828, -0.47747053, -0.67020432, -0.93752319, -0.21887346,\n",
       "        1.17071548, -0.16934843,  0.96396297,  0.01286187,  0.50408736,\n",
       "       -0.40587222, -0.31386163,  0.97742489,  0.61881943, -0.72143852,\n",
       "       -1.5880823 , -1.0309023 ,  0.63361795,  0.47913702,  1.26646368,\n",
       "       -0.80353781,  0.68956935,  0.50347692, -2.42252321, -1.92339089,\n",
       "        0.52238415,  0.53871997, -0.4324476 , -0.18935843, -0.28388738,\n",
       "       -0.15657968,  0.7416114 ,  0.61463108, -0.17817038,  1.63488946,\n",
       "        0.20669935,  0.6056029 ,  0.68508432,  0.0380037 , -0.37749332,\n",
       "       -0.19553723,  0.52594512,  0.23996894,  0.91659402, -0.91128866,\n",
       "        1.15538877, -0.44199569, -0.0873695 , -0.32779831,  0.15853928,\n",
       "       -0.54333197,  1.01354383, -0.4978271 , -1.42155142, -1.15680138,\n",
       "        0.11268732,  1.61060277,  0.20128597,  0.60426161, -1.16037209,\n",
       "       -0.35449031,  2.19277648,  0.52265466, -0.88803638, -0.66113266,\n",
       "        0.59372281, -1.47528706, -0.18575858,  0.81524374, -0.23195298,\n",
       "       -0.95729276, -1.78568112, -1.1992749 , -0.34014506, -1.52852661,\n",
       "        0.9764157 ,  0.15457597,  0.38962199, -0.19982123,  0.47891777,\n",
       "        1.99728865,  0.10018278, -0.79636335,  0.32230735,  0.24928782,\n",
       "       -1.10672065, -0.00820787,  0.92113683, -0.92877015,  1.44957233,\n",
       "       -1.09875698, -1.93715695,  1.03792846, -0.75998585,  0.03516151,\n",
       "       -0.41436885, -0.46911181,  0.06103894,  0.63532967, -0.55850797,\n",
       "       -0.18188823,  0.2121465 , -1.67610709, -1.18503317, -0.47340971,\n",
       "       -0.09282184, -1.20061975,  0.47136974,  0.18216568, -1.47214561,\n",
       "        0.33855978, -1.17504823,  0.18115823, -0.89873032, -0.8123317 ,\n",
       "       -1.16017797,  1.52227098,  0.13873128, -1.11456033, -0.46363071,\n",
       "        0.6547786 ,  0.58099557,  0.06003003,  0.36071647, -1.21885825,\n",
       "       -0.88936703,  0.17939583, -1.32084938, -0.65726842,  0.02940282,\n",
       "       -0.74713799,  1.24977696, -0.24132095, -0.1236568 , -0.88363544,\n",
       "       -0.50199841,  0.94038491, -0.28646055,  0.03055126, -1.61734008,\n",
       "        1.19179169, -0.10018807, -0.76672308,  0.74153219, -1.34333544,\n",
       "        0.90705447, -1.3429626 ,  0.62714703, -0.60397863, -1.46303584,\n",
       "       -1.03840606, -0.19740031, -1.69011284, -1.72486332, -0.05765728,\n",
       "        0.87697834,  0.41828288, -0.17251525, -0.34850374, -2.40122748,\n",
       "       -1.79093537, -0.31369744, -0.6671863 , -1.14121659,  0.23794333,\n",
       "       -0.89202722, -1.06421366, -0.58737281,  0.51370687, -0.02421498,\n",
       "        0.86611574,  2.42776897, -0.31664232,  0.70597046,  0.36324557,\n",
       "        0.54499123, -2.41017079, -1.04612386,  0.11519748, -0.83928777,\n",
       "       -0.63998782,  0.66095324,  1.27224329, -1.20389308, -0.03672236,\n",
       "       -1.04215462,  0.16805423,  2.89322819, -0.65527601,  0.3077022 ,\n",
       "        1.96754801, -0.74022804,  0.4642673 , -1.15884034,  0.31284327,\n",
       "       -0.52586073, -2.34902502,  0.945246  ,  0.47477569, -1.53346167,\n",
       "        0.57429928,  1.39441923,  0.49280086, -0.67538205,  1.00969963,\n",
       "       -1.25623272,  1.40168437, -0.33565198, -1.44721968,  0.01839361,\n",
       "       -0.51157207,  1.28397229,  1.94408392, -0.05534086, -0.85883248,\n",
       "       -0.69329249, -0.15862317, -0.74135067,  1.52073502,  0.69617896,\n",
       "        0.66770805,  0.41793079, -1.22448491, -0.74175918, -0.85764494,\n",
       "       -1.23105265, -0.50423248, -1.71501374,  1.30197879, -1.3261916 ,\n",
       "       -0.31440814,  1.26404555, -1.37602177, -0.99675206,  1.1895136 ,\n",
       "       -0.36552761, -0.46323022,  0.38651807, -0.545767  ,  0.08665051,\n",
       "       -0.50385607, -2.2772836 , -1.79209945,  0.6371967 ,  0.13159982,\n",
       "       -0.19622122,  1.99537972,  0.69666447, -1.47418277,  0.75597957,\n",
       "       -0.13454622, -0.95726417, -1.12841503,  0.74103058, -0.10134067,\n",
       "        0.0603407 , -1.13821927,  0.03572218,  0.61061866, -0.40682936,\n",
       "        0.95075918,  1.30437733, -0.16892422, -0.46810524, -0.6307547 ,\n",
       "        1.4260524 , -0.3784574 ,  1.84216991,  0.29767317,  0.44949905,\n",
       "        1.14401949,  2.90691567,  1.06748162,  0.91650066,  1.31716631,\n",
       "        0.87289039,  0.05691087, -0.01606981,  0.39127838,  0.79527458,\n",
       "        0.06035924,  0.49107008,  0.25942623,  0.39325809,  0.25765952,\n",
       "        0.03162895, -0.58107568, -0.4717126 , -1.82297303, -0.14291187,\n",
       "       -0.42173009, -0.21320815, -1.9694502 , -0.35380419,  1.81553804,\n",
       "       -0.49793956,  0.78893461,  1.05033624, -0.46301747,  0.9351561 ,\n",
       "        2.30359586,  1.76194723, -0.54446461,  0.62622787,  0.65054323,\n",
       "       -0.61892166, -1.60704375, -0.80302209, -0.59020743,  0.62957601,\n",
       "        1.89353349,  0.36474191,  0.74402559, -0.73440005,  0.08134232,\n",
       "        1.84024102, -1.22793486, -2.5705927 ,  0.50993932, -0.38509252,\n",
       "        0.4698189 , -1.12500678,  0.22657229,  0.54021427, -1.64912563,\n",
       "        0.079556  , -0.15217883,  1.85233725, -0.13477969, -1.04644935,\n",
       "        0.135785  ,  0.07799091, -0.1776278 , -1.43019297, -1.19377301,\n",
       "        0.46676066, -0.4905285 ,  0.10890748,  1.14803295,  2.29814911,\n",
       "        0.61622714, -0.75437493, -0.03553563, -1.41942227, -0.00866159,\n",
       "        1.7744186 ,  0.58169912, -1.05319824, -0.20398094, -0.86601668,\n",
       "       -0.37784185, -0.06143769,  0.64040656,  0.28783213, -1.2568134 ,\n",
       "       -0.1856443 ,  1.80763766,  1.56984108, -0.69923408,  0.56393913,\n",
       "        0.11634219, -1.13578203, -1.12617973,  1.12736482, -0.72713335,\n",
       "       -0.66612932, -0.59065128,  0.4423497 ,  0.82534814, -0.80270374,\n",
       "       -0.28107975, -2.11663983, -0.60643243,  0.72924344,  0.32971157,\n",
       "        1.57228091,  0.0067084 , -1.21977827,  0.44775096,  0.32201123,\n",
       "       -0.37348666,  0.36721356,  0.9133319 , -0.63100957, -0.06115879,\n",
       "       -0.39841397,  1.27594628, -0.36856275,  0.09392044, -0.30653661,\n",
       "       -1.17773536, -0.10547682, -0.3838329 , -0.17865264, -1.26239474,\n",
       "        1.24818782,  0.88704929,  0.98675178, -1.09512699,  0.99256959,\n",
       "        0.73136835,  0.86231944, -0.70794942, -0.40328473,  0.38106354,\n",
       "       -0.05821355,  0.01884412, -0.44074813,  1.69720632,  0.24059156,\n",
       "        0.21036418, -0.45415071,  0.63769963, -0.16450404, -0.20666618,\n",
       "        0.35936819, -0.82795954,  1.24625906, -0.49393798,  0.03010797,\n",
       "        0.11111345,  1.61117019,  0.25141219,  0.17609338, -1.68647196,\n",
       "       -0.89467444,  1.90688687,  0.76325433, -0.27259841, -0.57866108,\n",
       "        0.7885179 ,  1.69607637,  0.1221532 ,  1.11812517, -0.42784581,\n",
       "        0.79820513,  0.4542978 , -0.66533648, -0.68054975,  0.47085032,\n",
       "        1.48508116,  0.23044015,  1.26395597,  0.98414643, -0.15267944,\n",
       "        0.58421552, -1.58683292, -0.74190134, -1.44916822, -1.52172074,\n",
       "        1.10376952, -0.22073953, -1.20521648,  0.29392304,  1.30495083,\n",
       "        0.85856364, -0.74418982,  0.53549742, -1.47830895, -1.54269635,\n",
       "       -0.883321  , -0.27574359,  1.38863135,  0.3630521 ,  0.56561153,\n",
       "       -0.91599279,  0.4818317 ,  0.05362453,  1.9383655 , -0.03821722,\n",
       "       -0.6765987 , -0.69821078, -0.19921545, -0.00821409, -0.25198531])"
      ]
     },
     "execution_count": 68,
     "metadata": {},
     "output_type": "execute_result"
    }
   ],
   "source": [
    "np.random.normal(size=1000)"
   ]
  },
  {
   "cell_type": "markdown",
   "metadata": {},
   "source": [
    "## Question 11\n",
    "\n",
    "Generate binomial distribution data for fair coin flipping of size 100. Assume `0` for head and `1` for tail.\n",
    "\n",
    "[ **Hint:** For fair coin flip `p=0.5` ]"
   ]
  },
  {
   "cell_type": "markdown",
   "metadata": {},
   "source": [
    "#### Binomial Distribution"
   ]
  },
  {
   "cell_type": "markdown",
   "metadata": {},
   "source": [
    "It is defined by 2 parameters: the probability of success and the number of trails. It tells about how likely it is possible to get a given number of successes in n trails."
   ]
  },
  {
   "cell_type": "code",
   "execution_count": 76,
   "metadata": {},
   "outputs": [
    {
     "data": {
      "text/plain": [
       "array([1, 0, 0, 0, 0, 1, 1, 0, 1, 0, 1, 0, 0, 0, 0, 1, 0, 0, 1, 1, 0, 1,\n",
       "       1, 0, 0, 1, 1, 0, 1, 1, 1, 1, 0, 1, 0, 0, 1, 1, 1, 0, 1, 0, 0, 1,\n",
       "       1, 0, 1, 0, 0, 0, 1, 1, 1, 1, 1, 0, 0, 1, 0, 1, 1, 0, 1, 1, 1, 0,\n",
       "       1, 1, 1, 0, 0, 0, 1, 0, 0, 0, 0, 1, 1, 1, 0, 0, 1, 1, 0, 0, 1, 1,\n",
       "       0, 1, 0, 1, 0, 0, 1, 1, 1, 1, 1, 1])"
      ]
     },
     "execution_count": 76,
     "metadata": {},
     "output_type": "execute_result"
    }
   ],
   "source": [
    "np.random.binomial(1,0.5,100)"
   ]
  },
  {
   "cell_type": "markdown",
   "metadata": {},
   "source": [
    "#### Visualizing Poisson Distribution"
   ]
  },
  {
   "cell_type": "markdown",
   "metadata": {},
   "source": [
    "It models the probability of seeing certain number of successes within a time interval."
   ]
  },
  {
   "cell_type": "code",
   "execution_count": 133,
   "metadata": {},
   "outputs": [
    {
     "data": {
      "image/png": "[encoded data removed]",
      "text/plain": [
       "<matplotlib.figure.Figure at 0x7f7c10ffbe90>"
      ]
     },
     "metadata": {},
     "output_type": "display_data"
    }
   ],
   "source": [
    "poisson_data = stats.poisson.rvs(size=100,mu=10)\n",
    "\n",
    "pd.DataFrame(poisson_data).hist()\n",
    "\n",
    "plt.show()"
   ]
  }
 ],
 "metadata": {
  "kernelspec": {
   "display_name": "Python 3",
   "language": "python",
   "name": "python3"
  },
  "language_info": {
   "codemirror_mode": {
    "name": "ipython",
    "version": 3
   },
   "file_extension": ".py",
   "mimetype": "text/x-python",
   "name": "python",
   "nbconvert_exporter": "python",
   "pygments_lexer": "ipython3",
   "version": "3.6.5"
  }
 },
 "nbformat": 4,
 "nbformat_minor": 2
}
